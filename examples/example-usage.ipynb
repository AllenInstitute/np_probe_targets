{
 "cells": [
  {
   "cell_type": "code",
   "execution_count": 9,
   "metadata": {},
   "outputs": [
    {
     "name": "stdout",
     "output_type": "stream",
     "text": [
      "The autoreload extension is already loaded. To reload it, use:\n",
      "  %reload_ext autoreload\n"
     ]
    }
   ],
   "source": [
    "%load_ext autoreload\n",
    "%autoreload 2\n",
    "from npc_shields import *\n",
    "import ipywidgets as ipw"
   ]
  },
  {
   "cell_type": "markdown",
   "metadata": {},
   "source": [
    "## Show available shield drawings"
   ]
  },
  {
   "cell_type": "code",
   "execution_count": 17,
   "metadata": {},
   "outputs": [
    {
     "name": "stdout",
     "output_type": "stream",
     "text": [
      "shield.name = 'Templeton', shield.drawing_id = '0283-200-001'\n"
     ]
    },
    {
     "data": {
      "application/vnd.jupyter.widget-view+json": {
       "model_id": "d37359a70c84487db314fcaa560c497c",
       "version_major": 2,
       "version_minor": 0
      },
      "text/plain": [
       "HTML(value='<?xml version=\"1.0\" encoding=\"UTF-8\" standalone=\"no\"?>\\n<svg\\n   viewBox=\"0 0 693.78003 1083.302\"\\…"
      ]
     },
     "metadata": {},
     "output_type": "display_data"
    },
    {
     "name": "stdout",
     "output_type": "stream",
     "text": [
      "\n",
      "\n",
      "\n",
      "shield.name = '2002', shield.drawing_id = '0283-200-002'\n"
     ]
    },
    {
     "data": {
      "application/vnd.jupyter.widget-view+json": {
       "model_id": "38c964acee324ee79641196ab32f72be",
       "version_major": 2,
       "version_minor": 0
      },
      "text/plain": [
       "HTML(value='<?xml version=\"1.0\" encoding=\"UTF-8\" standalone=\"no\"?>\\n<svg\\n   viewBox=\"0 0 693.77924 1083.3021\"…"
      ]
     },
     "metadata": {},
     "output_type": "display_data"
    },
    {
     "name": "stdout",
     "output_type": "stream",
     "text": [
      "\n",
      "\n",
      "\n",
      "shield.name = '2005', shield.drawing_id = '0283-200-005'\n"
     ]
    },
    {
     "data": {
      "application/vnd.jupyter.widget-view+json": {
       "model_id": "0d3b945a9b8a425587ebe8bc7349ffdc",
       "version_major": 2,
       "version_minor": 0
      },
      "text/plain": [
       "HTML(value='<?xml version=\"1.0\" encoding=\"UTF-8\" standalone=\"no\"?>\\n<svg\\n   viewBox=\"0 0 693.78003 1083.302\"\\…"
      ]
     },
     "metadata": {},
     "output_type": "display_data"
    },
    {
     "name": "stdout",
     "output_type": "stream",
     "text": [
      "\n",
      "\n",
      "\n",
      "shield.name = '2006', shield.drawing_id = '0283-200-006'\n"
     ]
    },
    {
     "data": {
      "application/vnd.jupyter.widget-view+json": {
       "model_id": "4e510203020c40f784478bb720508503",
       "version_major": 2,
       "version_minor": 0
      },
      "text/plain": [
       "HTML(value='<?xml version=\"1.0\" encoding=\"UTF-8\" standalone=\"no\"?>\\n<svg\\n   viewBox=\"0 0 693.77924 1083.3021\"…"
      ]
     },
     "metadata": {},
     "output_type": "display_data"
    },
    {
     "name": "stdout",
     "output_type": "stream",
     "text": [
      "\n",
      "\n",
      "\n"
     ]
    }
   ],
   "source": [
    "for shield in get_shields():\n",
    "    print(f\"{shield.name = }, {shield.drawing_id = }\")\n",
    "    display(ipw.HTML(shield.svg.read_text()))\n",
    "    print(\"\\n\\n\")"
   ]
  },
  {
   "cell_type": "markdown",
   "metadata": {},
   "source": [
    "---\n",
    "## Get a blank implant for recording insertion locations & notes"
   ]
  },
  {
   "cell_type": "code",
   "execution_count": 19,
   "metadata": {},
   "outputs": [
    {
     "data": {
      "application/vnd.jupyter.widget-view+json": {
       "model_id": "7edd6069669d426f8e7dd6ec8bc6a25e",
       "version_major": 2,
       "version_minor": 0
      },
      "text/plain": [
       "InsertionWidget(children=(Output(), VBox(children=(HBox(children=(VBox(children=(SelectionSlider(description='…"
      ]
     },
     "metadata": {},
     "output_type": "display_data"
    }
   ],
   "source": [
    "get_insertion_widget(\n",
    "    shield_name='2002',\n",
    "    session='366122_20231201', # any string with subject ID & date\n",
    "    experiment_day=1,\n",
    "    save_path='example-record.json'\n",
    ")"
   ]
  },
  {
   "cell_type": "markdown",
   "metadata": {},
   "source": [
    "---\n",
    "## Get an implant with suggested targets from a dict"
   ]
  },
  {
   "cell_type": "code",
   "execution_count": 24,
   "metadata": {},
   "outputs": [
    {
     "data": {
      "application/vnd.jupyter.widget-view+json": {
       "model_id": "732f3a25c2054d4db4cf9509836c7261",
       "version_major": 2,
       "version_minor": 0
      },
      "text/plain": [
       "InsertionWidget(children=(Output(), VBox(children=(HBox(children=(VBox(children=(SelectionSlider(description='…"
      ]
     },
     "metadata": {},
     "output_type": "display_data"
    }
   ],
   "source": [
    "shield = get_shield('2002')\n",
    "\n",
    "suggested_targets = InsertionRecord(\n",
    "    shield=shield,\n",
    "    probes={\n",
    "        'A': 'A1',\n",
    "        'B': None,\n",
    "        'C': 'C1',\n",
    "        'D': 'D2',\n",
    "        'E': 'F1',\n",
    "        'F': 'F2',\n",
    "    },\n",
    "    session='366122_20231201',\n",
    "    experiment_day=1,\n",
    ")\n",
    "\n",
    "InsertionWidget(\n",
    "    insertion=suggested_targets,\n",
    "    save_path='example-record.json'\n",
    ")"
   ]
  },
  {
   "cell_type": "code",
   "execution_count": 31,
   "metadata": {},
   "outputs": [
    {
     "data": {
      "application/json": {
       "experiment_day": 1,
       "notes": {
        "A": null,
        "B": null,
        "C": null,
        "D": null,
        "E": null,
        "F": null
       },
       "probes": {
        "A": "A1",
        "B": null,
        "C": "C1",
        "D": "D2",
        "E": "F1",
        "F": "F2"
       },
       "session": "366122_2023-12-01_0",
       "shield": {
        "drawing_id": "0283-200-002",
        "name": "2002"
       }
      },
      "text/plain": [
       "<IPython.core.display.JSON object>"
      ]
     },
     "execution_count": 31,
     "metadata": {
      "application/json": {
       "expanded": false,
       "root": "root"
      }
     },
     "output_type": "execute_result"
    }
   ],
   "source": [
    "import IPython.display\n",
    "\n",
    "IPython.display.JSON('test.json')"
   ]
  },
  {
   "cell_type": "markdown",
   "metadata": {},
   "source": [
    "## Get an implant with suggested targets from a previously-saved record"
   ]
  },
  {
   "cell_type": "code",
   "execution_count": 30,
   "metadata": {},
   "outputs": [
    {
     "data": {
      "application/vnd.jupyter.widget-view+json": {
       "model_id": "532ea951ac0e4d68a8ccfab8478828cb",
       "version_major": 2,
       "version_minor": 0
      },
      "text/plain": [
       "InsertionWidget(children=(Output(), VBox(children=(HBox(children=(VBox(children=(SelectionSlider(description='…"
      ]
     },
     "metadata": {},
     "output_type": "display_data"
    }
   ],
   "source": [
    "import pathlib\n",
    "\n",
    "InsertionWidget.from_record(pathlib.Path('example-record.json'))"
   ]
  }
 ],
 "metadata": {
  "kernelspec": {
   "display_name": "Python 3.7.9 ('.venv': poetry)",
   "language": "python",
   "name": "python3"
  },
  "language_info": {
   "codemirror_mode": {
    "name": "ipython",
    "version": 3
   },
   "file_extension": ".py",
   "mimetype": "text/x-python",
   "name": "python",
   "nbconvert_exporter": "python",
   "pygments_lexer": "ipython3",
   "version": "3.11.3"
  },
  "vscode": {
   "interpreter": {
    "hash": "eabf272d592dc72210ccb4ff50c5fd36565afd8b8f495091911c4554fbbd732c"
   }
  }
 },
 "nbformat": 4,
 "nbformat_minor": 2
}
