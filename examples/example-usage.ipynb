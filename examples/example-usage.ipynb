{
 "cells": [
  {
   "cell_type": "code",
   "execution_count": 1,
   "metadata": {},
   "outputs": [],
   "source": [
    "%load_ext autoreload\n",
    "%autoreload 2\n",
    "from npc_shields import *\n",
    "import ipywidgets as ipw"
   ]
  },
  {
   "cell_type": "markdown",
   "metadata": {},
   "source": [
    "## Show available shield drawings"
   ]
  },
  {
   "cell_type": "code",
   "execution_count": 60,
   "metadata": {},
   "outputs": [
    {
     "data": {
      "application/vnd.jupyter.widget-view+json": {
       "model_id": "c6681cada3324e3ca512a407c5e3f9f3",
       "version_major": 2,
       "version_minor": 0
      },
      "text/plain": [
       "InjectionWidget(children=(HBox(children=(GridBox(children=(Text(value='', description='target_structure', layo…"
      ]
     },
     "metadata": {},
     "output_type": "display_data"
    }
   ],
   "source": [
    "InjectionWidget(\n",
    "    session='366122_20230404',\n",
    "    experiment_day=1,\n",
    "    save_paths='.',\n",
    "    shield_name='2005',\n",
    ")"
   ]
  },
  {
   "cell_type": "code",
   "execution_count": 8,
   "metadata": {},
   "outputs": [
    {
     "name": "stdout",
     "output_type": "stream",
     "text": [
      "shield.name = 'Templeton', shield.drawing_id = '0283-200-001'\n"
     ]
    },
    {
     "data": {
      "application/vnd.jupyter.widget-view+json": {
       "model_id": "8151d27eca424912bdc70979ed5433cf",
       "version_major": 2,
       "version_minor": 0
      },
      "text/plain": [
       "HTML(value='<?xml version=\"1.0\" encoding=\"UTF-8\" standalone=\"no\"?>\\n<svg\\n   viewBox=\"0 0 693.78003 1083.302\"\\…"
      ]
     },
     "metadata": {},
     "output_type": "display_data"
    },
    {
     "name": "stdout",
     "output_type": "stream",
     "text": [
      "\n",
      "\n",
      "\n",
      "shield.name = '2002', shield.drawing_id = '0283-200-002'\n"
     ]
    },
    {
     "data": {
      "application/vnd.jupyter.widget-view+json": {
       "model_id": "9cb810d9ea614d258a6041c580771416",
       "version_major": 2,
       "version_minor": 0
      },
      "text/plain": [
       "HTML(value='<?xml version=\"1.0\" encoding=\"UTF-8\" standalone=\"no\"?>\\n<svg\\n   viewBox=\"0 0 693.77924 1083.3021\"…"
      ]
     },
     "metadata": {},
     "output_type": "display_data"
    },
    {
     "name": "stdout",
     "output_type": "stream",
     "text": [
      "\n",
      "\n",
      "\n",
      "shield.name = '2005', shield.drawing_id = '0283-200-005'\n"
     ]
    },
    {
     "data": {
      "application/vnd.jupyter.widget-view+json": {
       "model_id": "6d8eed8a2c9e489c87d2634bad43777e",
       "version_major": 2,
       "version_minor": 0
      },
      "text/plain": [
       "HTML(value='<?xml version=\"1.0\" encoding=\"UTF-8\" standalone=\"no\"?>\\n<svg\\n   viewBox=\"0 0 693.78003 1083.302\"\\…"
      ]
     },
     "metadata": {},
     "output_type": "display_data"
    },
    {
     "name": "stdout",
     "output_type": "stream",
     "text": [
      "\n",
      "\n",
      "\n",
      "shield.name = '2006', shield.drawing_id = '0283-200-006'\n"
     ]
    },
    {
     "data": {
      "application/vnd.jupyter.widget-view+json": {
       "model_id": "eb11adc16bd840018685a13dd2043bff",
       "version_major": 2,
       "version_minor": 0
      },
      "text/plain": [
       "HTML(value='<?xml version=\"1.0\" encoding=\"UTF-8\" standalone=\"no\"?>\\n<svg\\n   viewBox=\"0 0 693.77924 1083.3021\"…"
      ]
     },
     "metadata": {},
     "output_type": "display_data"
    },
    {
     "name": "stdout",
     "output_type": "stream",
     "text": [
      "\n",
      "\n",
      "\n"
     ]
    }
   ],
   "source": [
    "for shield in get_shields():\n",
    "    print(f\"{shield.name = }, {shield.drawing_id = }\")\n",
    "    display(ipw.HTML(shield.svg.read_text()))\n",
    "    print(\"\\n\\n\")"
   ]
  },
  {
   "cell_type": "markdown",
   "metadata": {},
   "source": [
    "---\n",
    "## Get a blank implant for recording insertion locations & notes"
   ]
  },
  {
   "cell_type": "code",
   "execution_count": 2,
   "metadata": {},
   "outputs": [
    {
     "data": {
      "application/vnd.jupyter.widget-view+json": {
       "model_id": "561afd563921498b8d63972fa7d56597",
       "version_major": 2,
       "version_minor": 0
      },
      "text/plain": [
       "InsertionWidget(children=(Output(), VBox(children=(HBox(children=(VBox(children=(SelectionSlider(description='…"
      ]
     },
     "metadata": {},
     "output_type": "display_data"
    }
   ],
   "source": [
    "get_insertion_widget(\n",
    "    shield_name='2002',\n",
    "    session='366122_20231201', # any string with subject ID & date\n",
    "    experiment_day=1,\n",
    "    save_paths='example-record.json'\n",
    ")"
   ]
  },
  {
   "cell_type": "markdown",
   "metadata": {},
   "source": [
    "---\n",
    "## Get an implant with suggested targets from a dict"
   ]
  },
  {
   "cell_type": "code",
   "execution_count": null,
   "metadata": {},
   "outputs": [
    {
     "data": {
      "application/vnd.jupyter.widget-view+json": {
       "model_id": "aa473f5d9d5a4db09cfd2dde68f0f974",
       "version_major": 2,
       "version_minor": 0
      },
      "text/plain": [
       "InsertionWidget(children=(Output(), VBox(children=(HBox(children=(VBox(children=(SelectionSlider(description='…"
      ]
     },
     "metadata": {},
     "output_type": "display_data"
    }
   ],
   "source": [
    "shield = get_shield('2002')\n",
    "\n",
    "suggested_targets = InsertionRecord(\n",
    "    shield=shield,\n",
    "    probes={\n",
    "        'A': 'A1',\n",
    "        'B': None,\n",
    "        'C': 'C1',\n",
    "        'D': 'D2',\n",
    "        'E': 'F1',\n",
    "        'F': 'F2',\n",
    "    },\n",
    "    session='366122_20231201',\n",
    "    experiment_day=1,\n",
    ")\n",
    "\n",
    "InsertionWidget(\n",
    "    insertion=suggested_targets,\n",
    "    save_path='example-record.json'\n",
    ")"
   ]
  },
  {
   "cell_type": "code",
   "execution_count": null,
   "metadata": {},
   "outputs": [
    {
     "data": {
      "application/json": {
       "experiment_day": 1,
       "notes": {
        "A": null,
        "B": null,
        "C": null,
        "D": null,
        "E": null,
        "F": null
       },
       "probes": {
        "A": "A1",
        "B": null,
        "C": "C1",
        "D": "D2",
        "E": "F1",
        "F": "F2"
       },
       "session": "366122_2023-12-01_0",
       "shield": {
        "drawing_id": "0283-200-002",
        "name": "2002"
       }
      },
      "text/plain": [
       "<IPython.core.display.JSON object>"
      ]
     },
     "execution_count": 6,
     "metadata": {
      "application/json": {
       "expanded": false,
       "root": "root"
      }
     },
     "output_type": "execute_result"
    }
   ],
   "source": [
    "import IPython.display\n",
    "\n",
    "IPython.display.JSON('example-record.json')"
   ]
  },
  {
   "cell_type": "markdown",
   "metadata": {},
   "source": [
    "## Get an implant with suggested targets from a previously-saved record"
   ]
  },
  {
   "cell_type": "code",
   "execution_count": null,
   "metadata": {},
   "outputs": [
    {
     "data": {
      "application/vnd.jupyter.widget-view+json": {
       "model_id": "b2c6be180cef47649b5adfa24b69fd96",
       "version_major": 2,
       "version_minor": 0
      },
      "text/plain": [
       "InsertionWidget(children=(Output(), VBox(children=(HBox(children=(VBox(children=(SelectionSlider(description='…"
      ]
     },
     "metadata": {},
     "output_type": "display_data"
    }
   ],
   "source": [
    "import pathlib\n",
    "\n",
    "InsertionWidget.from_record(pathlib.Path('example-record.json'))"
   ]
  }
 ],
 "metadata": {
  "kernelspec": {
   "display_name": "Python 3.7.9 ('.venv': poetry)",
   "language": "python",
   "name": "python3"
  },
  "language_info": {
   "codemirror_mode": {
    "name": "ipython",
    "version": 3
   },
   "file_extension": ".py",
   "mimetype": "text/x-python",
   "name": "python",
   "nbconvert_exporter": "python",
   "pygments_lexer": "ipython3",
   "version": "3.11.3"
  },
  "vscode": {
   "interpreter": {
    "hash": "eabf272d592dc72210ccb4ff50c5fd36565afd8b8f495091911c4554fbbd732c"
   }
  }
 },
 "nbformat": 4,
 "nbformat_minor": 2
}
