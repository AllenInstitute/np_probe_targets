{
 "cells": [
  {
   "cell_type": "code",
   "execution_count": null,
   "metadata": {},
   "outputs": [],
   "source": [
    "%load_ext autoreload\n",
    "%autoreload 2\n",
    "import npc_shields\n",
    "import ipywidgets as ipw"
   ]
  },
  {
   "cell_type": "markdown",
   "metadata": {},
   "source": [
    "## Show available shield drawings"
   ]
  },
  {
   "cell_type": "code",
   "execution_count": null,
   "metadata": {},
   "outputs": [],
   "source": [
    "npc_shields.InjectionWidget(\n",
    "    session='366122_20230404',\n",
    "    injection_day=1,\n",
    "    save_paths='.',\n",
    "    shield_name='2005',\n",
    ")"
   ]
  },
  {
   "cell_type": "code",
   "execution_count": null,
   "metadata": {},
   "outputs": [],
   "source": [
    "for shield in npc_shields.get_shields():\n",
    "    print(f\"{shield.name = }, {shield.drawing_id = }\")\n",
    "    display(ipw.HTML(shield.drawing_svg.read_text()))\n",
    "    print(\"\\n\\n\")"
   ]
  },
  {
   "cell_type": "markdown",
   "metadata": {},
   "source": [
    "---\n",
    "## Get a blank implant for recording insertion locations & notes"
   ]
  },
  {
   "cell_type": "code",
   "execution_count": null,
   "metadata": {},
   "outputs": [],
   "source": [
    "npc_shields.get_insertion_widget(\n",
    "    shield_name='2002',\n",
    "    session='366122_20231201', # any string with subject ID & date\n",
    "    experiment_day=1,\n",
    "    save_paths='example-record.json'\n",
    ");"
   ]
  },
  {
   "cell_type": "markdown",
   "metadata": {},
   "source": [
    "---\n",
    "## Get an implant with suggested targets from a dict"
   ]
  },
  {
   "cell_type": "code",
   "execution_count": null,
   "metadata": {},
   "outputs": [],
   "source": [
    "shield = npc_shields.get_shield('2002')\n",
    "\n",
    "suggested_targets = npc_shields.InsertionRecord(\n",
    "    shield=shield,\n",
    "    probes={\n",
    "        'A': 'A1',\n",
    "        'B': None,\n",
    "        'C': 'C1',\n",
    "        'D': 'D2',\n",
    "        'E': 'F1',\n",
    "        'F': 'F2',\n",
    "    },\n",
    "    session='366122_20231201',\n",
    "    experiment_day=1,\n",
    ")\n",
    "\n",
    "npc_shields.InsertionWidget(\n",
    "    insertion=suggested_targets,\n",
    "    save_paths='example-record.json'\n",
    ");"
   ]
  },
  {
   "cell_type": "code",
   "execution_count": null,
   "metadata": {},
   "outputs": [],
   "source": [
    "import IPython.display\n",
    "\n",
    "IPython.display.JSON('example-record.json')"
   ]
  },
  {
   "cell_type": "markdown",
   "metadata": {},
   "source": [
    "## Get an implant with suggested targets from a previously-saved record"
   ]
  },
  {
   "cell_type": "code",
   "execution_count": null,
   "metadata": {},
   "outputs": [],
   "source": [
    "import pathlib\n",
    "\n",
    "npc_shields.InsertionWidget.from_record(pathlib.Path('example-record.json'));"
   ]
  }
 ],
 "metadata": {
  "kernelspec": {
   "display_name": "Python 3.7.9 ('.venv': poetry)",
   "language": "python",
   "name": "python3"
  },
  "language_info": {
   "codemirror_mode": {
    "name": "ipython",
    "version": 3
   },
   "file_extension": ".py",
   "mimetype": "text/x-python",
   "name": "python",
   "nbconvert_exporter": "python",
   "pygments_lexer": "ipython3",
   "version": "3.11.3"
  },
  "vscode": {
   "interpreter": {
    "hash": "eabf272d592dc72210ccb4ff50c5fd36565afd8b8f495091911c4554fbbd732c"
   }
  }
 },
 "nbformat": 4,
 "nbformat_minor": 2
}
